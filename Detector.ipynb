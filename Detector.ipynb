{
  "nbformat": 4,
  "nbformat_minor": 0,
  "metadata": {
    "colab": {
      "name": "Detector.ipynb",
      "provenance": [],
      "collapsed_sections": [],
      "mount_file_id": "17wuNYDF2XQxoQm60iqZXkKp8Lmu0q0ef",
      "authorship_tag": "ABX9TyMtlHK6dffZbktBA5ZuIFAW",
      "include_colab_link": true
    },
    "kernelspec": {
      "name": "python3",
      "display_name": "Python 3"
    },
    "accelerator": "GPU"
  },
  "cells": [
    {
      "cell_type": "markdown",
      "metadata": {
        "id": "view-in-github",
        "colab_type": "text"
      },
      "source": [
        "<a href=\"https://colab.research.google.com/github/sujayk96/Person-detection/blob/master/Detector.ipynb\" target=\"_parent\"><img src=\"https://colab.research.google.com/assets/colab-badge.svg\" alt=\"Open In Colab\"/></a>"
      ]
    },
    {
      "cell_type": "markdown",
      "metadata": {
        "id": "TjJNoLm0UYWN",
        "colab_type": "text"
      },
      "source": [
        "\n",
        "**Clone Monk Object Detection**"
      ]
    },
    {
      "cell_type": "code",
      "metadata": {
        "id": "acEqxvij8AWR",
        "colab_type": "code",
        "colab": {
          "base_uri": "https://localhost:8080/",
          "height": 289
        },
        "outputId": "7372a1d5-f33c-4b12-9899-b2b25a557f2d"
      },
      "source": [
        "! git clone https://github.com/Tessellate-Imaging/Monk_Object_Detection.git\n"
      ],
      "execution_count": 1,
      "outputs": [
        {
          "output_type": "stream",
          "text": [
            "Cloning into 'Monk_Object_Detection'...\n",
            "remote: Enumerating objects: 127, done.\u001b[K\n",
            "remote: Counting objects:   0% (1/127)\u001b[K\rremote: Counting objects:   1% (2/127)\u001b[K\rremote: Counting objects:   2% (3/127)\u001b[K\rremote: Counting objects:   3% (4/127)\u001b[K\rremote: Counting objects:   4% (6/127)\u001b[K\rremote: Counting objects:   5% (7/127)\u001b[K\rremote: Counting objects:   6% (8/127)\u001b[K\rremote: Counting objects:   7% (9/127)\u001b[K\rremote: Counting objects:   8% (11/127)\u001b[K\rremote: Counting objects:   9% (12/127)\u001b[K\rremote: Counting objects:  10% (13/127)\u001b[K\rremote: Counting objects:  11% (14/127)\u001b[K\rremote: Counting objects:  12% (16/127)\u001b[K\rremote: Counting objects:  13% (17/127)\u001b[K\rremote: Counting objects:  14% (18/127)\u001b[K\rremote: Counting objects:  15% (20/127)\u001b[K\rremote: Counting objects:  16% (21/127)\u001b[K\rremote: Counting objects:  17% (22/127)\u001b[K\rremote: Counting objects:  18% (23/127)\u001b[K\rremote: Counting objects:  19% (25/127)\u001b[K\rremote: Counting objects:  20% (26/127)\u001b[K\rremote: Counting objects:  21% (27/127)\u001b[K\rremote: Counting objects:  22% (28/127)\u001b[K\rremote: Counting objects:  23% (30/127)\u001b[K\rremote: Counting objects:  24% (31/127)\u001b[K\rremote: Counting objects:  25% (32/127)\u001b[K\rremote: Counting objects:  26% (34/127)\u001b[K\rremote: Counting objects:  27% (35/127)\u001b[K\rremote: Counting objects:  28% (36/127)\u001b[K\rremote: Counting objects:  29% (37/127)\u001b[K\rremote: Counting objects:  30% (39/127)\u001b[K\rremote: Counting objects:  31% (40/127)\u001b[K\rremote: Counting objects:  32% (41/127)\u001b[K\rremote: Counting objects:  33% (42/127)\u001b[K\rremote: Counting objects:  34% (44/127)\u001b[K\rremote: Counting objects:  35% (45/127)\u001b[K\rremote: Counting objects:  36% (46/127)\u001b[K\rremote: Counting objects:  37% (47/127)\u001b[K\rremote: Counting objects:  38% (49/127)\u001b[K\rremote: Counting objects:  39% (50/127)\u001b[K\rremote: Counting objects:  40% (51/127)\u001b[K\rremote: Counting objects:  41% (53/127)\u001b[K\rremote: Counting objects:  42% (54/127)\u001b[K\rremote: Counting objects:  43% (55/127)\u001b[K\rremote: Counting objects:  44% (56/127)\u001b[K\rremote: Counting objects:  45% (58/127)\u001b[K\rremote: Counting objects:  46% (59/127)\u001b[K\rremote: Counting objects:  47% (60/127)\u001b[K\rremote: Counting objects:  48% (61/127)\u001b[K\rremote: Counting objects:  49% (63/127)\u001b[K\rremote: Counting objects:  50% (64/127)\u001b[K\rremote: Counting objects:  51% (65/127)\u001b[K\rremote: Counting objects:  52% (67/127)\u001b[K\rremote: Counting objects:  53% (68/127)\u001b[K\rremote: Counting objects:  54% (69/127)\u001b[K\rremote: Counting objects:  55% (70/127)\u001b[K\rremote: Counting objects:  56% (72/127)\u001b[K\rremote: Counting objects:  57% (73/127)\u001b[K\rremote: Counting objects:  58% (74/127)\u001b[K\rremote: Counting objects:  59% (75/127)\u001b[K\rremote: Counting objects:  60% (77/127)\u001b[K\rremote: Counting objects:  61% (78/127)\u001b[K\rremote: Counting objects:  62% (79/127)\u001b[K\rremote: Counting objects:  63% (81/127)\u001b[K\rremote: Counting objects:  64% (82/127)\u001b[K\rremote: Counting objects:  65% (83/127)\u001b[K\rremote: Counting objects:  66% (84/127)\u001b[K\rremote: Counting objects:  67% (86/127)\u001b[K\rremote: Counting objects:  68% (87/127)\u001b[K\rremote: Counting objects:  69% (88/127)\u001b[K\rremote: Counting objects:  70% (89/127)\u001b[K\rremote: Counting objects:  71% (91/127)\u001b[K\rremote: Counting objects:  72% (92/127)\u001b[K\rremote: Counting objects:  73% (93/127)\u001b[K\rremote: Counting objects:  74% (94/127)\u001b[K\rremote: Counting objects:  75% (96/127)\u001b[K\rremote: Counting objects:  76% (97/127)\u001b[K\rremote: Counting objects:  77% (98/127)\u001b[K\rremote: Counting objects:  78% (100/127)\u001b[K\rremote: Counting objects:  79% (101/127)\u001b[K\rremote: Counting objects:  80% (102/127)\u001b[K\rremote: Counting objects:  81% (103/127)\u001b[K\rremote: Counting objects:  82% (105/127)\u001b[K\rremote: Counting objects:  83% (106/127)\u001b[K\rremote: Counting objects:  84% (107/127)\u001b[K\rremote: Counting objects:  85% (108/127)\u001b[K\rremote: Counting objects:  86% (110/127)\u001b[K\rremote: Counting objects:  87% (111/127)\u001b[K\rremote: Counting objects:  88% (112/127)\u001b[K\rremote: Counting objects:  89% (114/127)\u001b[K\rremote: Counting objects:  90% (115/127)\u001b[K\rremote: Counting objects:  91% (116/127)\u001b[K\rremote: Counting objects:  92% (117/127)\u001b[K\rremote: Counting objects:  93% (119/127)\u001b[K\rremote: Counting objects:  94% (120/127)\u001b[K\rremote: Counting objects:  95% (121/127)\u001b[K\rremote: Counting objects:  96% (122/127)\u001b[K\rremote: Counting objects:  97% (124/127)\u001b[K\rremote: Counting objects:  98% (125/127)\u001b[K\rremote: Counting objects:  99% (126/127)\u001b[K\rremote: Counting objects: 100% (127/127)\u001b[K\rremote: Counting objects: 100% (127/127), done.\u001b[K\n",
            "remote: Compressing objects: 100% (93/93), done.\u001b[K\n",
            "remote: Total 5105 (delta 60), reused 79 (delta 33), pack-reused 4978\u001b[K\n",
            "Receiving objects: 100% (5105/5105), 168.36 MiB | 22.68 MiB/s, done.\n",
            "Resolving deltas: 100% (1490/1490), done.\n",
            "Checking out files: 100% (4720/4720), done.\n",
            "Cloning into 'monk_v1'...\n",
            "remote: Enumerating objects: 35, done.\u001b[K\n",
            "remote: Counting objects: 100% (35/35), done.\u001b[K\n",
            "remote: Compressing objects: 100% (34/34), done.\u001b[K\n",
            "remote: Total 5750 (delta 17), reused 2 (delta 1), pack-reused 5715\u001b[K\n",
            "Receiving objects: 100% (5750/5750), 168.03 MiB | 22.00 MiB/s, done.\n",
            "Resolving deltas: 100% (3894/3894), done.\n",
            "Checking out files: 100% (1313/1313), done.\n"
          ],
          "name": "stdout"
        }
      ]
    },
    {
      "cell_type": "markdown",
      "metadata": {
        "id": "DV9fv7lOWQwO",
        "colab_type": "text"
      },
      "source": [
        "### Install dependencies "
      ]
    },
    {
      "cell_type": "code",
      "metadata": {
        "id": "niUodgnG8Elu",
        "colab_type": "code",
        "colab": {
          "base_uri": "https://localhost:8080/",
          "height": 921
        },
        "outputId": "15368696-7316-41e5-b272-b5fc97a4e303"
      },
      "source": [
        "\n",
        "# For colab use the command below\n",
        "! cd Monk_Object_Detection/1_gluoncv_finetune/installation && cat requirements_colab.txt | xargs -n 1 -L 1 pip install\n"
      ],
      "execution_count": 2,
      "outputs": [
        {
          "output_type": "stream",
          "text": [
            "Collecting xmltodict\n",
            "  Downloading https://files.pythonhosted.org/packages/28/fd/30d5c1d3ac29ce229f6bdc40bbc20b28f716e8b363140c26eff19122d8a5/xmltodict-0.12.0-py2.py3-none-any.whl\n",
            "Installing collected packages: xmltodict\n",
            "Successfully installed xmltodict-0.12.0\n",
            "Collecting mxnet-cu100\n",
            "\u001b[?25l  Downloading https://files.pythonhosted.org/packages/3d/84/d098e0607ee6207448b6af65315f5d45946b49e4f48160eade6cdd64ce4e/mxnet_cu100-1.5.1.post0-py2.py3-none-manylinux1_x86_64.whl (540.1MB)\n",
            "\u001b[K     |████████████████████████████████| 540.1MB 31kB/s \n",
            "\u001b[?25hRequirement already satisfied: requests<3,>=2.20.0 in /usr/local/lib/python3.6/dist-packages (from mxnet-cu100) (2.23.0)\n",
            "Collecting graphviz<0.9.0,>=0.8.1\n",
            "  Downloading https://files.pythonhosted.org/packages/53/39/4ab213673844e0c004bed8a0781a0721a3f6bb23eb8854ee75c236428892/graphviz-0.8.4-py2.py3-none-any.whl\n",
            "Requirement already satisfied: numpy<2.0.0,>1.16.0 in /usr/local/lib/python3.6/dist-packages (from mxnet-cu100) (1.18.5)\n",
            "Requirement already satisfied: certifi>=2017.4.17 in /usr/local/lib/python3.6/dist-packages (from requests<3,>=2.20.0->mxnet-cu100) (2020.6.20)\n",
            "Requirement already satisfied: idna<3,>=2.5 in /usr/local/lib/python3.6/dist-packages (from requests<3,>=2.20.0->mxnet-cu100) (2.10)\n",
            "Requirement already satisfied: urllib3!=1.25.0,!=1.25.1,<1.26,>=1.21.1 in /usr/local/lib/python3.6/dist-packages (from requests<3,>=2.20.0->mxnet-cu100) (1.24.3)\n",
            "Requirement already satisfied: chardet<4,>=3.0.2 in /usr/local/lib/python3.6/dist-packages (from requests<3,>=2.20.0->mxnet-cu100) (3.0.4)\n",
            "Installing collected packages: graphviz, mxnet-cu100\n",
            "  Found existing installation: graphviz 0.10.1\n",
            "    Uninstalling graphviz-0.10.1:\n",
            "      Successfully uninstalled graphviz-0.10.1\n",
            "Successfully installed graphviz-0.8.4 mxnet-cu100-1.5.1.post0\n",
            "Collecting gluoncv\n",
            "\u001b[?25l  Downloading https://files.pythonhosted.org/packages/fa/81/37a00609cb53da3671adb106b9bc03fb1c029ad5a8db4bc668283e65703d/gluoncv-0.7.0-py2.py3-none-any.whl (752kB)\n",
            "\u001b[K     |████████████████████████████████| 757kB 74kB/s \n",
            "\u001b[?25hRequirement already satisfied: tqdm in /usr/local/lib/python3.6/dist-packages (from gluoncv) (4.41.1)\n",
            "Requirement already satisfied: numpy in /usr/local/lib/python3.6/dist-packages (from gluoncv) (1.18.5)\n",
            "Collecting portalocker\n",
            "  Downloading https://files.pythonhosted.org/packages/89/a6/3814b7107e0788040870e8825eebf214d72166adf656ba7d4bf14759a06a/portalocker-2.0.0-py2.py3-none-any.whl\n",
            "Requirement already satisfied: scipy in /usr/local/lib/python3.6/dist-packages (from gluoncv) (1.4.1)\n",
            "Requirement already satisfied: requests in /usr/local/lib/python3.6/dist-packages (from gluoncv) (2.23.0)\n",
            "Requirement already satisfied: Pillow in /usr/local/lib/python3.6/dist-packages (from gluoncv) (7.0.0)\n",
            "Requirement already satisfied: matplotlib in /usr/local/lib/python3.6/dist-packages (from gluoncv) (3.2.2)\n",
            "Requirement already satisfied: certifi>=2017.4.17 in /usr/local/lib/python3.6/dist-packages (from requests->gluoncv) (2020.6.20)\n",
            "Requirement already satisfied: idna<3,>=2.5 in /usr/local/lib/python3.6/dist-packages (from requests->gluoncv) (2.10)\n",
            "Requirement already satisfied: urllib3!=1.25.0,!=1.25.1,<1.26,>=1.21.1 in /usr/local/lib/python3.6/dist-packages (from requests->gluoncv) (1.24.3)\n",
            "Requirement already satisfied: chardet<4,>=3.0.2 in /usr/local/lib/python3.6/dist-packages (from requests->gluoncv) (3.0.4)\n",
            "Requirement already satisfied: cycler>=0.10 in /usr/local/lib/python3.6/dist-packages (from matplotlib->gluoncv) (0.10.0)\n",
            "Requirement already satisfied: python-dateutil>=2.1 in /usr/local/lib/python3.6/dist-packages (from matplotlib->gluoncv) (2.8.1)\n",
            "Requirement already satisfied: pyparsing!=2.0.4,!=2.1.2,!=2.1.6,>=2.0.1 in /usr/local/lib/python3.6/dist-packages (from matplotlib->gluoncv) (2.4.7)\n",
            "Requirement already satisfied: kiwisolver>=1.0.1 in /usr/local/lib/python3.6/dist-packages (from matplotlib->gluoncv) (1.2.0)\n",
            "Requirement already satisfied: six in /usr/local/lib/python3.6/dist-packages (from cycler>=0.10->matplotlib->gluoncv) (1.15.0)\n",
            "Installing collected packages: portalocker, gluoncv\n",
            "Successfully installed gluoncv-0.7.0 portalocker-2.0.0\n",
            "Requirement already satisfied: pycocotools from git+https://github.com/abhi-kumar/cocoapi.git#egg=pycocotools&subdirectory=PythonAPI in /usr/local/lib/python3.6/dist-packages (2.0.1)\n",
            "Requirement already satisfied: cython>=0.27.3 in /usr/local/lib/python3.6/dist-packages (from pycocotools) (0.29.21)\n",
            "Requirement already satisfied: matplotlib>=2.1.0 in /usr/local/lib/python3.6/dist-packages (from pycocotools) (3.2.2)\n",
            "Requirement already satisfied: setuptools>=18.0 in /usr/local/lib/python3.6/dist-packages (from pycocotools) (49.2.0)\n",
            "Requirement already satisfied: python-dateutil>=2.1 in /usr/local/lib/python3.6/dist-packages (from matplotlib>=2.1.0->pycocotools) (2.8.1)\n",
            "Requirement already satisfied: numpy>=1.11 in /usr/local/lib/python3.6/dist-packages (from matplotlib>=2.1.0->pycocotools) (1.18.5)\n",
            "Requirement already satisfied: cycler>=0.10 in /usr/local/lib/python3.6/dist-packages (from matplotlib>=2.1.0->pycocotools) (0.10.0)\n",
            "Requirement already satisfied: kiwisolver>=1.0.1 in /usr/local/lib/python3.6/dist-packages (from matplotlib>=2.1.0->pycocotools) (1.2.0)\n",
            "Requirement already satisfied: pyparsing!=2.0.4,!=2.1.2,!=2.1.6,>=2.0.1 in /usr/local/lib/python3.6/dist-packages (from matplotlib>=2.1.0->pycocotools) (2.4.7)\n",
            "Requirement already satisfied: six>=1.5 in /usr/local/lib/python3.6/dist-packages (from python-dateutil>=2.1->matplotlib>=2.1.0->pycocotools) (1.15.0)\n"
          ],
          "name": "stdout"
        }
      ]
    },
    {
      "cell_type": "code",
      "metadata": {
        "id": "Bod7g_uRzSEj",
        "colab_type": "code",
        "colab": {}
      },
      "source": [
        ""
      ],
      "execution_count": 2,
      "outputs": []
    },
    {
      "cell_type": "markdown",
      "metadata": {
        "id": "C1ITDrMTUhrE",
        "colab_type": "text"
      },
      "source": [
        "### Select Backend and Import Detector"
      ]
    },
    {
      "cell_type": "code",
      "metadata": {
        "id": "DHt7elgzUhAZ",
        "colab_type": "code",
        "colab": {
          "base_uri": "https://localhost:8080/",
          "height": 35
        },
        "outputId": "3d42b1f5-ade1-46c2-f766-89066080db4a"
      },
      "source": [
        "pwd"
      ],
      "execution_count": 3,
      "outputs": [
        {
          "output_type": "execute_result",
          "data": {
            "application/vnd.google.colaboratory.intrinsic+json": {
              "type": "string"
            },
            "text/plain": [
              "'/content'"
            ]
          },
          "metadata": {
            "tags": []
          },
          "execution_count": 3
        }
      ]
    },
    {
      "cell_type": "code",
      "metadata": {
        "id": "8bM5vUhO8Kup",
        "colab_type": "code",
        "colab": {}
      },
      "source": [
        "import os\n",
        "import sys\n",
        "sys.path.append(\"Monk_Object_Detection/1_gluoncv_finetune/lib/\");\n"
      ],
      "execution_count": 3,
      "outputs": []
    },
    {
      "cell_type": "code",
      "metadata": {
        "id": "LQAIcXVrhCEj",
        "colab_type": "code",
        "colab": {}
      },
      "source": [
        "from detector_prototype import Detector\n",
        "gtf = Detector()"
      ],
      "execution_count": 4,
      "outputs": []
    },
    {
      "cell_type": "code",
      "metadata": {
        "id": "0rRbgk90yRP3",
        "colab_type": "code",
        "colab": {}
      },
      "source": [
        ""
      ],
      "execution_count": 4,
      "outputs": []
    },
    {
      "cell_type": "code",
      "metadata": {
        "id": "e3ccTs73ChDz",
        "colab_type": "code",
        "colab": {}
      },
      "source": [
        "import importlib.util\n",
        "spec = importlib.util.spec_from_file_location(\"Detector\", \"kaggle/Monk_Object_Detection/1_gluoncv_finetune/lib/detector_prototype.py\")\n",
        "foo = importlib.util.module_from_spec(spec)\n",
        "spec.loader.exec_module(foo)\n",
        "gtf = foo.Detector()"
      ],
      "execution_count": null,
      "outputs": []
    },
    {
      "cell_type": "code",
      "metadata": {
        "id": "GQ7AZGPJCVSf",
        "colab_type": "code",
        "colab": {
          "base_uri": "https://localhost:8080/",
          "height": 204
        },
        "outputId": "5c5c1c91-b7ab-421a-9aaa-52301d37142f"
      },
      "source": [
        "sys.path"
      ],
      "execution_count": 5,
      "outputs": [
        {
          "output_type": "execute_result",
          "data": {
            "text/plain": [
              "['',\n",
              " '/env/python',\n",
              " '/usr/lib/python36.zip',\n",
              " '/usr/lib/python3.6',\n",
              " '/usr/lib/python3.6/lib-dynload',\n",
              " '/usr/local/lib/python3.6/dist-packages',\n",
              " '/usr/lib/python3/dist-packages',\n",
              " '/usr/local/lib/python3.6/dist-packages/IPython/extensions',\n",
              " '/root/.ipython',\n",
              " 'Monk_Object_Detection/1_gluoncv_finetune/lib/',\n",
              " './monk/']"
            ]
          },
          "metadata": {
            "tags": []
          },
          "execution_count": 5
        }
      ]
    },
    {
      "cell_type": "code",
      "metadata": {
        "id": "0VUZ6uHE8-ik",
        "colab_type": "code",
        "colab": {}
      },
      "source": [
        ""
      ],
      "execution_count": null,
      "outputs": []
    },
    {
      "cell_type": "markdown",
      "metadata": {
        "id": "NbXQot9KUlin",
        "colab_type": "text"
      },
      "source": [
        "### Set up kaggle and download the Processed Dataset"
      ]
    },
    {
      "cell_type": "code",
      "metadata": {
        "id": "NvH6_0z6o10U",
        "colab_type": "code",
        "colab": {
          "resources": {
            "http://localhost:8080/nbextensions/google.colab/files.js": {
              "data": "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",
              "ok": true,
              "headers": [
                [
                  "content-type",
                  "application/javascript"
                ]
              ],
              "status": 200,
              "status_text": ""
            }
          },
          "base_uri": "https://localhost:8080/",
          "height": 89
        },
        "outputId": "caadd277-0b6e-4999-ad62-33b809e2cdf1"
      },
      "source": [
        "from google.colab import files\n",
        "files.upload()"
      ],
      "execution_count": 12,
      "outputs": [
        {
          "output_type": "display_data",
          "data": {
            "text/html": [
              "\n",
              "     <input type=\"file\" id=\"files-cf0dad00-ffca-43ee-a400-933e7f80b09d\" name=\"files[]\" multiple disabled\n",
              "        style=\"border:none\" />\n",
              "     <output id=\"result-cf0dad00-ffca-43ee-a400-933e7f80b09d\">\n",
              "      Upload widget is only available when the cell has been executed in the\n",
              "      current browser session. Please rerun this cell to enable.\n",
              "      </output>\n",
              "      <script src=\"/nbextensions/google.colab/files.js\"></script> "
            ],
            "text/plain": [
              "<IPython.core.display.HTML object>"
            ]
          },
          "metadata": {
            "tags": []
          }
        },
        {
          "output_type": "stream",
          "text": [
            "Saving kaggle.json to kaggle.json\n"
          ],
          "name": "stdout"
        },
        {
          "output_type": "execute_result",
          "data": {
            "text/plain": [
              "{'kaggle.json': b'{\"username\":\"jayko2110\",\"key\":\"140d000db96a64c421531bac9a9a166e\"}'}"
            ]
          },
          "metadata": {
            "tags": []
          },
          "execution_count": 12
        }
      ]
    },
    {
      "cell_type": "code",
      "metadata": {
        "id": "74vjhcdDU1hh",
        "colab_type": "code",
        "colab": {
          "base_uri": "https://localhost:8080/",
          "height": 34
        },
        "outputId": "c6b071b5-b22e-4f9f-9145-a51dcefa8ba3"
      },
      "source": [
        "!pip install -q kaggle\n",
        "!mkdir -p ~/.kaggle\n",
        "!cp kaggle.json ~/.kaggle/\n",
        "!ls ~/.kaggle\n",
        "!chmod 600 /root/.kaggle/kaggle.json  # set permission"
      ],
      "execution_count": 13,
      "outputs": [
        {
          "output_type": "stream",
          "text": [
            "kaggle.json\n"
          ],
          "name": "stdout"
        }
      ]
    },
    {
      "cell_type": "code",
      "metadata": {
        "id": "CtcCX1UeUkLh",
        "colab_type": "code",
        "colab": {
          "base_uri": "https://localhost:8080/",
          "height": 68
        },
        "outputId": "d8131ca1-e335-4f8c-eb44-95e546e0716f"
      },
      "source": [
        "!kaggle datasets download -d jayko2110/museum-consolidated"
      ],
      "execution_count": 14,
      "outputs": [
        {
          "output_type": "stream",
          "text": [
            "Downloading museum-consolidated.zip to /content\n",
            " 93% 225M/241M [00:03<00:00, 49.9MB/s]\n",
            "100% 241M/241M [00:03<00:00, 68.7MB/s]\n"
          ],
          "name": "stdout"
        }
      ]
    },
    {
      "cell_type": "code",
      "metadata": {
        "id": "NxRqud9A0HNQ",
        "colab_type": "code",
        "colab": {}
      },
      "source": [
        "!unzip -q /content/museum-consolidated.zip\n"
      ],
      "execution_count": 15,
      "outputs": []
    },
    {
      "cell_type": "code",
      "metadata": {
        "id": "IDIZb5i30HQM",
        "colab_type": "code",
        "colab": {
          "base_uri": "https://localhost:8080/",
          "height": 35
        },
        "outputId": "0d1a7ee7-f1c6-4ef3-b623-6987739a069c"
      },
      "source": [
        "pwd\n"
      ],
      "execution_count": 16,
      "outputs": [
        {
          "output_type": "execute_result",
          "data": {
            "application/vnd.google.colaboratory.intrinsic+json": {
              "type": "string"
            },
            "text/plain": [
              "'/content'"
            ]
          },
          "metadata": {
            "tags": []
          },
          "execution_count": 16
        }
      ]
    },
    {
      "cell_type": "code",
      "metadata": {
        "id": "VHH5VnWbVUWt",
        "colab_type": "code",
        "colab": {}
      },
      "source": [
        ""
      ],
      "execution_count": 16,
      "outputs": []
    },
    {
      "cell_type": "code",
      "metadata": {
        "id": "yw375JpDXD6c",
        "colab_type": "code",
        "colab": {}
      },
      "source": [
        ""
      ],
      "execution_count": null,
      "outputs": []
    },
    {
      "cell_type": "markdown",
      "metadata": {
        "id": "0MVo47CHXEpd",
        "colab_type": "text"
      },
      "source": [
        "## Define the Detector Network"
      ]
    },
    {
      "cell_type": "code",
      "metadata": {
        "id": "OgzBRNDA9EFc",
        "colab_type": "code",
        "colab": {}
      },
      "source": [
        "\n",
        "pretrained = True;         \n",
        "gpu=True;\n",
        "model_name = \"ssd_512_resnet50_v1_coco\";"
      ],
      "execution_count": 17,
      "outputs": []
    },
    {
      "cell_type": "code",
      "metadata": {
        "id": "yK4_e55aRf34",
        "colab_type": "code",
        "colab": {}
      },
      "source": [
        "root = \"\";                         \n",
        "img_dir = \"/content/images_val/\";                                                     \n",
        "anno_file = \"/content/annotations/bbox_val.csv\";\n",
        "batch_size=4;"
      ],
      "execution_count": 20,
      "outputs": []
    },
    {
      "cell_type": "code",
      "metadata": {
        "id": "iRYw8KKO1AZD",
        "colab_type": "code",
        "colab": {
          "base_uri": "https://localhost:8080/",
          "height": 51
        },
        "outputId": "cb1f9775-e11b-488a-92de-3beb65d3e4c1"
      },
      "source": [
        "gtf.Dataset(root,img_dir, anno_file, batch_size=2);\n"
      ],
      "execution_count": 21,
      "outputs": [
        {
          "output_type": "stream",
          "text": [
            "100%|██████████| 2000/2000 [00:00<00:00, 55030.36it/s]\n",
            "100%|██████████| 2000/2000 [00:01<00:00, 1048.11it/s]\n"
          ],
          "name": "stderr"
        }
      ]
    },
    {
      "cell_type": "code",
      "metadata": {
        "id": "6de8neNJ2wJp",
        "colab_type": "code",
        "colab": {
          "base_uri": "https://localhost:8080/",
          "height": 122
        },
        "outputId": "0b99e825-9af2-4b91-ab5f-c480fe18ab8f"
      },
      "source": [
        "gtf.Model(model_name, use_pretrained=pretrained, use_gpu=gpu);\n"
      ],
      "execution_count": 22,
      "outputs": [
        {
          "output_type": "stream",
          "text": [
            "/usr/local/lib/python3.6/dist-packages/mxnet/gluon/block.py:1159: UserWarning: Cannot decide type for the following arguments. Consider providing them as input:\n",
            "\tdata: None\n",
            "  input_sym_arg_type = in_param.infer_type()[0]\n"
          ],
          "name": "stderr"
        },
        {
          "output_type": "stream",
          "text": [
            "Downloading /root/.mxnet/models/ssd_512_resnet50_v1_coco-c4835162.zip from https://apache-mxnet.s3-accelerate.dualstack.amazonaws.com/gluon/models/ssd_512_resnet50_v1_coco-c4835162.zip...\n"
          ],
          "name": "stdout"
        },
        {
          "output_type": "stream",
          "text": [
            "181189KB [00:06, 28680.02KB/s]                            \n"
          ],
          "name": "stderr"
        }
      ]
    },
    {
      "cell_type": "code",
      "metadata": {
        "id": "Iiu8KGO_qDi2",
        "colab_type": "code",
        "colab": {}
      },
      "source": [
        "gtf.Set_Learning_Rate(0.001);"
      ],
      "execution_count": 23,
      "outputs": []
    },
    {
      "cell_type": "code",
      "metadata": {
        "id": "3Ob6jrcnqFuN",
        "colab_type": "code",
        "colab": {}
      },
      "source": [
        "epochs=4;\n",
        "params_file = \"saved_model.params\";"
      ],
      "execution_count": 24,
      "outputs": []
    },
    {
      "cell_type": "code",
      "metadata": {
        "id": "IdwV2QfLqGAW",
        "colab_type": "code",
        "colab": {
          "base_uri": "https://localhost:8080/",
          "height": 1000
        },
        "outputId": "42ac3f08-5241-4ee8-baef-9643a8d5829c"
      },
      "source": [
        "gtf.Train(epochs, params_file);"
      ],
      "execution_count": 25,
      "outputs": [
        {
          "output_type": "stream",
          "text": [
            "[Epoch 0][Batch 0], Speed: 0.424 samples/sec, CrossEntropy=8.241, SmoothL1=2.102\n",
            "[Epoch 0][Batch 20], Speed: 9.816 samples/sec, CrossEntropy=4.890, SmoothL1=1.917\n",
            "[Epoch 0][Batch 40], Speed: 13.092 samples/sec, CrossEntropy=4.170, SmoothL1=2.161\n",
            "[Epoch 0][Batch 60], Speed: 12.022 samples/sec, CrossEntropy=3.844, SmoothL1=2.275\n",
            "[Epoch 0][Batch 80], Speed: 11.752 samples/sec, CrossEntropy=3.621, SmoothL1=2.269\n",
            "[Epoch 0][Batch 100], Speed: 11.023 samples/sec, CrossEntropy=3.493, SmoothL1=2.276\n",
            "[Epoch 0][Batch 120], Speed: 11.815 samples/sec, CrossEntropy=3.404, SmoothL1=2.290\n",
            "[Epoch 0][Batch 140], Speed: 11.692 samples/sec, CrossEntropy=3.323, SmoothL1=2.219\n",
            "[Epoch 0][Batch 160], Speed: 10.957 samples/sec, CrossEntropy=3.294, SmoothL1=2.178\n",
            "[Epoch 0][Batch 180], Speed: 10.459 samples/sec, CrossEntropy=3.238, SmoothL1=2.133\n",
            "[Epoch 0][Batch 200], Speed: 11.522 samples/sec, CrossEntropy=3.177, SmoothL1=2.076\n",
            "[Epoch 0][Batch 220], Speed: 12.005 samples/sec, CrossEntropy=3.133, SmoothL1=2.073\n",
            "[Epoch 0][Batch 240], Speed: 11.799 samples/sec, CrossEntropy=3.084, SmoothL1=2.050\n",
            "[Epoch 0][Batch 260], Speed: 8.814 samples/sec, CrossEntropy=3.029, SmoothL1=2.006\n",
            "[Epoch 0][Batch 280], Speed: 11.953 samples/sec, CrossEntropy=2.994, SmoothL1=1.964\n",
            "[Epoch 0][Batch 300], Speed: 10.898 samples/sec, CrossEntropy=2.953, SmoothL1=1.935\n",
            "[Epoch 0][Batch 320], Speed: 11.550 samples/sec, CrossEntropy=2.925, SmoothL1=1.916\n",
            "[Epoch 0][Batch 340], Speed: 9.993 samples/sec, CrossEntropy=2.897, SmoothL1=1.894\n",
            "[Epoch 0][Batch 360], Speed: 11.633 samples/sec, CrossEntropy=2.876, SmoothL1=1.882\n",
            "[Epoch 0][Batch 380], Speed: 11.837 samples/sec, CrossEntropy=2.855, SmoothL1=1.872\n",
            "[Epoch 0][Batch 400], Speed: 12.077 samples/sec, CrossEntropy=2.836, SmoothL1=1.865\n",
            "[Epoch 0][Batch 420], Speed: 12.285 samples/sec, CrossEntropy=2.821, SmoothL1=1.852\n",
            "[Epoch 0][Batch 440], Speed: 9.423 samples/sec, CrossEntropy=2.816, SmoothL1=1.855\n",
            "[Epoch 0][Batch 460], Speed: 11.104 samples/sec, CrossEntropy=2.811, SmoothL1=1.867\n",
            "[Epoch 0][Batch 480], Speed: 11.823 samples/sec, CrossEntropy=2.802, SmoothL1=1.865\n",
            "[Epoch 0][Batch 500], Speed: 12.425 samples/sec, CrossEntropy=2.791, SmoothL1=1.859\n",
            "[Epoch 0][Batch 520], Speed: 11.062 samples/sec, CrossEntropy=2.779, SmoothL1=1.848\n",
            "[Epoch 0][Batch 540], Speed: 12.017 samples/sec, CrossEntropy=2.772, SmoothL1=1.844\n",
            "[Epoch 0][Batch 560], Speed: 12.039 samples/sec, CrossEntropy=2.761, SmoothL1=1.842\n",
            "[Epoch 0][Batch 580], Speed: 12.178 samples/sec, CrossEntropy=2.747, SmoothL1=1.835\n",
            "[Epoch 0][Batch 600], Speed: 11.270 samples/sec, CrossEntropy=2.741, SmoothL1=1.831\n",
            "[Epoch 0][Batch 620], Speed: 11.112 samples/sec, CrossEntropy=2.734, SmoothL1=1.818\n",
            "[Epoch 0][Batch 640], Speed: 10.266 samples/sec, CrossEntropy=2.726, SmoothL1=1.812\n",
            "[Epoch 0][Batch 660], Speed: 11.520 samples/sec, CrossEntropy=2.715, SmoothL1=1.796\n",
            "[Epoch 0][Batch 680], Speed: 10.725 samples/sec, CrossEntropy=2.707, SmoothL1=1.787\n",
            "[Epoch 0][Batch 700], Speed: 10.991 samples/sec, CrossEntropy=2.695, SmoothL1=1.773\n",
            "[Epoch 0][Batch 720], Speed: 10.003 samples/sec, CrossEntropy=2.687, SmoothL1=1.760\n",
            "[Epoch 0][Batch 740], Speed: 9.884 samples/sec, CrossEntropy=2.670, SmoothL1=1.745\n",
            "[Epoch 0][Batch 760], Speed: 10.039 samples/sec, CrossEntropy=2.666, SmoothL1=1.745\n",
            "[Epoch 0][Batch 780], Speed: 10.825 samples/sec, CrossEntropy=2.662, SmoothL1=1.733\n",
            "[Epoch 0][Batch 800], Speed: 12.196 samples/sec, CrossEntropy=2.658, SmoothL1=1.719\n",
            "[Epoch 0][Batch 820], Speed: 9.508 samples/sec, CrossEntropy=2.656, SmoothL1=1.708\n",
            "[Epoch 0][Batch 840], Speed: 12.050 samples/sec, CrossEntropy=2.647, SmoothL1=1.697\n",
            "[Epoch 0][Batch 860], Speed: 11.435 samples/sec, CrossEntropy=2.640, SmoothL1=1.686\n",
            "[Epoch 0][Batch 880], Speed: 9.647 samples/sec, CrossEntropy=2.634, SmoothL1=1.679\n",
            "[Epoch 0][Batch 900], Speed: 12.445 samples/sec, CrossEntropy=2.628, SmoothL1=1.669\n",
            "[Epoch 0][Batch 920], Speed: 12.018 samples/sec, CrossEntropy=2.623, SmoothL1=1.664\n",
            "[Epoch 0][Batch 940], Speed: 10.106 samples/sec, CrossEntropy=2.618, SmoothL1=1.658\n",
            "[Epoch 0][Batch 960], Speed: 10.956 samples/sec, CrossEntropy=2.618, SmoothL1=1.655\n",
            "[Epoch 0][Batch 980], Speed: 11.734 samples/sec, CrossEntropy=2.615, SmoothL1=1.648\n",
            "[Epoch 1][Batch 0], Speed: 9.409 samples/sec, CrossEntropy=2.227, SmoothL1=1.610\n",
            "[Epoch 1][Batch 20], Speed: 10.595 samples/sec, CrossEntropy=2.399, SmoothL1=1.309\n",
            "[Epoch 1][Batch 40], Speed: 9.881 samples/sec, CrossEntropy=2.479, SmoothL1=1.213\n",
            "[Epoch 1][Batch 60], Speed: 10.164 samples/sec, CrossEntropy=2.630, SmoothL1=1.376\n",
            "[Epoch 1][Batch 80], Speed: 12.030 samples/sec, CrossEntropy=2.665, SmoothL1=1.446\n",
            "[Epoch 1][Batch 100], Speed: 9.543 samples/sec, CrossEntropy=2.666, SmoothL1=1.492\n",
            "[Epoch 1][Batch 120], Speed: 12.163 samples/sec, CrossEntropy=2.664, SmoothL1=1.501\n",
            "[Epoch 1][Batch 140], Speed: 11.761 samples/sec, CrossEntropy=2.650, SmoothL1=1.501\n",
            "[Epoch 1][Batch 160], Speed: 11.744 samples/sec, CrossEntropy=2.627, SmoothL1=1.509\n",
            "[Epoch 1][Batch 180], Speed: 11.181 samples/sec, CrossEntropy=2.606, SmoothL1=1.482\n",
            "[Epoch 1][Batch 200], Speed: 10.845 samples/sec, CrossEntropy=2.580, SmoothL1=1.474\n",
            "[Epoch 1][Batch 220], Speed: 11.667 samples/sec, CrossEntropy=2.566, SmoothL1=1.463\n",
            "[Epoch 1][Batch 240], Speed: 11.237 samples/sec, CrossEntropy=2.540, SmoothL1=1.466\n",
            "[Epoch 1][Batch 260], Speed: 11.199 samples/sec, CrossEntropy=2.536, SmoothL1=1.481\n",
            "[Epoch 1][Batch 280], Speed: 10.206 samples/sec, CrossEntropy=2.526, SmoothL1=1.473\n",
            "[Epoch 1][Batch 300], Speed: 12.485 samples/sec, CrossEntropy=2.527, SmoothL1=1.470\n",
            "[Epoch 1][Batch 320], Speed: 10.438 samples/sec, CrossEntropy=2.516, SmoothL1=1.447\n",
            "[Epoch 1][Batch 340], Speed: 10.662 samples/sec, CrossEntropy=2.511, SmoothL1=1.439\n",
            "[Epoch 1][Batch 360], Speed: 10.792 samples/sec, CrossEntropy=2.498, SmoothL1=1.420\n",
            "[Epoch 1][Batch 380], Speed: 11.883 samples/sec, CrossEntropy=2.489, SmoothL1=1.412\n",
            "[Epoch 1][Batch 400], Speed: 11.224 samples/sec, CrossEntropy=2.482, SmoothL1=1.404\n",
            "[Epoch 1][Batch 420], Speed: 10.975 samples/sec, CrossEntropy=2.476, SmoothL1=1.396\n",
            "[Epoch 1][Batch 440], Speed: 11.632 samples/sec, CrossEntropy=2.463, SmoothL1=1.394\n",
            "[Epoch 1][Batch 460], Speed: 11.796 samples/sec, CrossEntropy=2.451, SmoothL1=1.390\n",
            "[Epoch 1][Batch 480], Speed: 12.305 samples/sec, CrossEntropy=2.442, SmoothL1=1.379\n",
            "[Epoch 1][Batch 500], Speed: 12.012 samples/sec, CrossEntropy=2.447, SmoothL1=1.379\n",
            "[Epoch 1][Batch 520], Speed: 12.438 samples/sec, CrossEntropy=2.449, SmoothL1=1.383\n",
            "[Epoch 1][Batch 540], Speed: 9.311 samples/sec, CrossEntropy=2.444, SmoothL1=1.381\n",
            "[Epoch 1][Batch 560], Speed: 9.721 samples/sec, CrossEntropy=2.437, SmoothL1=1.373\n",
            "[Epoch 1][Batch 580], Speed: 11.530 samples/sec, CrossEntropy=2.437, SmoothL1=1.381\n",
            "[Epoch 1][Batch 600], Speed: 11.245 samples/sec, CrossEntropy=2.427, SmoothL1=1.378\n",
            "[Epoch 1][Batch 620], Speed: 11.716 samples/sec, CrossEntropy=2.421, SmoothL1=1.369\n",
            "[Epoch 1][Batch 640], Speed: 10.633 samples/sec, CrossEntropy=2.415, SmoothL1=1.362\n",
            "[Epoch 1][Batch 660], Speed: 10.601 samples/sec, CrossEntropy=2.406, SmoothL1=1.360\n",
            "[Epoch 1][Batch 680], Speed: 12.214 samples/sec, CrossEntropy=2.411, SmoothL1=1.364\n",
            "[Epoch 1][Batch 700], Speed: 11.561 samples/sec, CrossEntropy=2.401, SmoothL1=1.351\n",
            "[Epoch 1][Batch 720], Speed: 11.890 samples/sec, CrossEntropy=2.398, SmoothL1=1.346\n",
            "[Epoch 1][Batch 740], Speed: 11.006 samples/sec, CrossEntropy=2.391, SmoothL1=1.341\n",
            "[Epoch 1][Batch 760], Speed: 11.215 samples/sec, CrossEntropy=2.384, SmoothL1=1.333\n",
            "[Epoch 1][Batch 780], Speed: 10.316 samples/sec, CrossEntropy=2.387, SmoothL1=1.332\n",
            "[Epoch 1][Batch 800], Speed: 11.270 samples/sec, CrossEntropy=2.385, SmoothL1=1.323\n",
            "[Epoch 1][Batch 820], Speed: 11.000 samples/sec, CrossEntropy=2.380, SmoothL1=1.321\n",
            "[Epoch 1][Batch 840], Speed: 10.055 samples/sec, CrossEntropy=2.377, SmoothL1=1.311\n",
            "[Epoch 1][Batch 860], Speed: 9.838 samples/sec, CrossEntropy=2.376, SmoothL1=1.312\n",
            "[Epoch 1][Batch 880], Speed: 11.002 samples/sec, CrossEntropy=2.373, SmoothL1=1.307\n",
            "[Epoch 1][Batch 900], Speed: 8.677 samples/sec, CrossEntropy=2.376, SmoothL1=1.311\n",
            "[Epoch 1][Batch 920], Speed: 11.694 samples/sec, CrossEntropy=2.374, SmoothL1=1.310\n",
            "[Epoch 1][Batch 940], Speed: 11.199 samples/sec, CrossEntropy=2.371, SmoothL1=1.306\n",
            "[Epoch 1][Batch 960], Speed: 12.031 samples/sec, CrossEntropy=2.368, SmoothL1=1.307\n",
            "[Epoch 1][Batch 980], Speed: 11.919 samples/sec, CrossEntropy=2.366, SmoothL1=1.305\n",
            "[Epoch 2][Batch 0], Speed: 10.699 samples/sec, CrossEntropy=2.704, SmoothL1=0.892\n",
            "[Epoch 2][Batch 20], Speed: 12.599 samples/sec, CrossEntropy=2.262, SmoothL1=1.185\n",
            "[Epoch 2][Batch 40], Speed: 12.783 samples/sec, CrossEntropy=2.229, SmoothL1=1.249\n",
            "[Epoch 2][Batch 60], Speed: 12.313 samples/sec, CrossEntropy=2.201, SmoothL1=1.159\n",
            "[Epoch 2][Batch 80], Speed: 12.033 samples/sec, CrossEntropy=2.215, SmoothL1=1.142\n",
            "[Epoch 2][Batch 100], Speed: 10.985 samples/sec, CrossEntropy=2.247, SmoothL1=1.159\n",
            "[Epoch 2][Batch 120], Speed: 10.285 samples/sec, CrossEntropy=2.210, SmoothL1=1.113\n",
            "[Epoch 2][Batch 140], Speed: 11.856 samples/sec, CrossEntropy=2.196, SmoothL1=1.099\n",
            "[Epoch 2][Batch 160], Speed: 12.216 samples/sec, CrossEntropy=2.186, SmoothL1=1.088\n",
            "[Epoch 2][Batch 180], Speed: 10.625 samples/sec, CrossEntropy=2.168, SmoothL1=1.069\n",
            "[Epoch 2][Batch 200], Speed: 10.610 samples/sec, CrossEntropy=2.170, SmoothL1=1.065\n",
            "[Epoch 2][Batch 220], Speed: 12.263 samples/sec, CrossEntropy=2.164, SmoothL1=1.070\n",
            "[Epoch 2][Batch 240], Speed: 11.857 samples/sec, CrossEntropy=2.167, SmoothL1=1.072\n",
            "[Epoch 2][Batch 260], Speed: 11.136 samples/sec, CrossEntropy=2.179, SmoothL1=1.087\n",
            "[Epoch 2][Batch 280], Speed: 9.956 samples/sec, CrossEntropy=2.187, SmoothL1=1.102\n",
            "[Epoch 2][Batch 300], Speed: 11.066 samples/sec, CrossEntropy=2.198, SmoothL1=1.101\n",
            "[Epoch 2][Batch 320], Speed: 10.107 samples/sec, CrossEntropy=2.193, SmoothL1=1.106\n",
            "[Epoch 2][Batch 340], Speed: 10.685 samples/sec, CrossEntropy=2.193, SmoothL1=1.104\n",
            "[Epoch 2][Batch 360], Speed: 10.945 samples/sec, CrossEntropy=2.197, SmoothL1=1.127\n",
            "[Epoch 2][Batch 380], Speed: 12.103 samples/sec, CrossEntropy=2.194, SmoothL1=1.124\n",
            "[Epoch 2][Batch 400], Speed: 12.603 samples/sec, CrossEntropy=2.194, SmoothL1=1.127\n",
            "[Epoch 2][Batch 420], Speed: 12.053 samples/sec, CrossEntropy=2.196, SmoothL1=1.135\n",
            "[Epoch 2][Batch 440], Speed: 10.504 samples/sec, CrossEntropy=2.202, SmoothL1=1.143\n",
            "[Epoch 2][Batch 460], Speed: 10.665 samples/sec, CrossEntropy=2.207, SmoothL1=1.146\n",
            "[Epoch 2][Batch 480], Speed: 12.683 samples/sec, CrossEntropy=2.210, SmoothL1=1.157\n",
            "[Epoch 2][Batch 500], Speed: 11.778 samples/sec, CrossEntropy=2.209, SmoothL1=1.156\n",
            "[Epoch 2][Batch 520], Speed: 11.308 samples/sec, CrossEntropy=2.207, SmoothL1=1.148\n",
            "[Epoch 2][Batch 540], Speed: 10.706 samples/sec, CrossEntropy=2.206, SmoothL1=1.144\n",
            "[Epoch 2][Batch 560], Speed: 11.053 samples/sec, CrossEntropy=2.206, SmoothL1=1.141\n",
            "[Epoch 2][Batch 580], Speed: 11.291 samples/sec, CrossEntropy=2.203, SmoothL1=1.134\n",
            "[Epoch 2][Batch 600], Speed: 9.700 samples/sec, CrossEntropy=2.214, SmoothL1=1.141\n",
            "[Epoch 2][Batch 620], Speed: 9.929 samples/sec, CrossEntropy=2.209, SmoothL1=1.136\n",
            "[Epoch 2][Batch 640], Speed: 11.909 samples/sec, CrossEntropy=2.209, SmoothL1=1.131\n",
            "[Epoch 2][Batch 660], Speed: 10.724 samples/sec, CrossEntropy=2.211, SmoothL1=1.134\n",
            "[Epoch 2][Batch 680], Speed: 11.933 samples/sec, CrossEntropy=2.207, SmoothL1=1.128\n",
            "[Epoch 2][Batch 700], Speed: 9.368 samples/sec, CrossEntropy=2.207, SmoothL1=1.127\n",
            "[Epoch 2][Batch 720], Speed: 12.270 samples/sec, CrossEntropy=2.209, SmoothL1=1.128\n",
            "[Epoch 2][Batch 740], Speed: 11.183 samples/sec, CrossEntropy=2.211, SmoothL1=1.124\n",
            "[Epoch 2][Batch 760], Speed: 11.912 samples/sec, CrossEntropy=2.216, SmoothL1=1.131\n",
            "[Epoch 2][Batch 780], Speed: 10.270 samples/sec, CrossEntropy=2.212, SmoothL1=1.128\n",
            "[Epoch 2][Batch 800], Speed: 11.851 samples/sec, CrossEntropy=2.214, SmoothL1=1.127\n",
            "[Epoch 2][Batch 820], Speed: 10.495 samples/sec, CrossEntropy=2.211, SmoothL1=1.123\n",
            "[Epoch 2][Batch 840], Speed: 11.560 samples/sec, CrossEntropy=2.207, SmoothL1=1.121\n",
            "[Epoch 2][Batch 860], Speed: 11.919 samples/sec, CrossEntropy=2.203, SmoothL1=1.122\n",
            "[Epoch 2][Batch 880], Speed: 11.774 samples/sec, CrossEntropy=2.198, SmoothL1=1.119\n",
            "[Epoch 2][Batch 900], Speed: 11.794 samples/sec, CrossEntropy=2.195, SmoothL1=1.122\n",
            "[Epoch 2][Batch 920], Speed: 10.249 samples/sec, CrossEntropy=2.201, SmoothL1=1.127\n",
            "[Epoch 2][Batch 940], Speed: 10.650 samples/sec, CrossEntropy=2.196, SmoothL1=1.119\n",
            "[Epoch 2][Batch 960], Speed: 11.782 samples/sec, CrossEntropy=2.201, SmoothL1=1.123\n",
            "[Epoch 2][Batch 980], Speed: 12.560 samples/sec, CrossEntropy=2.204, SmoothL1=1.128\n",
            "[Epoch 3][Batch 0], Speed: 9.847 samples/sec, CrossEntropy=1.919, SmoothL1=0.337\n",
            "[Epoch 3][Batch 20], Speed: 11.194 samples/sec, CrossEntropy=2.131, SmoothL1=1.057\n",
            "[Epoch 3][Batch 40], Speed: 10.390 samples/sec, CrossEntropy=2.151, SmoothL1=1.138\n",
            "[Epoch 3][Batch 60], Speed: 11.542 samples/sec, CrossEntropy=2.093, SmoothL1=1.058\n",
            "[Epoch 3][Batch 80], Speed: 10.353 samples/sec, CrossEntropy=2.185, SmoothL1=1.135\n",
            "[Epoch 3][Batch 100], Speed: 10.455 samples/sec, CrossEntropy=2.185, SmoothL1=1.127\n",
            "[Epoch 3][Batch 120], Speed: 10.588 samples/sec, CrossEntropy=2.205, SmoothL1=1.155\n",
            "[Epoch 3][Batch 140], Speed: 10.054 samples/sec, CrossEntropy=2.214, SmoothL1=1.158\n",
            "[Epoch 3][Batch 160], Speed: 11.024 samples/sec, CrossEntropy=2.210, SmoothL1=1.159\n",
            "[Epoch 3][Batch 180], Speed: 11.897 samples/sec, CrossEntropy=2.193, SmoothL1=1.135\n",
            "[Epoch 3][Batch 200], Speed: 12.609 samples/sec, CrossEntropy=2.187, SmoothL1=1.134\n",
            "[Epoch 3][Batch 220], Speed: 11.704 samples/sec, CrossEntropy=2.173, SmoothL1=1.104\n",
            "[Epoch 3][Batch 240], Speed: 9.723 samples/sec, CrossEntropy=2.175, SmoothL1=1.094\n",
            "[Epoch 3][Batch 260], Speed: 11.337 samples/sec, CrossEntropy=2.172, SmoothL1=1.086\n",
            "[Epoch 3][Batch 280], Speed: 12.327 samples/sec, CrossEntropy=2.162, SmoothL1=1.073\n",
            "[Epoch 3][Batch 300], Speed: 10.244 samples/sec, CrossEntropy=2.162, SmoothL1=1.062\n",
            "[Epoch 3][Batch 320], Speed: 10.880 samples/sec, CrossEntropy=2.169, SmoothL1=1.074\n",
            "[Epoch 3][Batch 340], Speed: 11.114 samples/sec, CrossEntropy=2.162, SmoothL1=1.068\n",
            "[Epoch 3][Batch 360], Speed: 12.136 samples/sec, CrossEntropy=2.156, SmoothL1=1.061\n",
            "[Epoch 3][Batch 380], Speed: 11.616 samples/sec, CrossEntropy=2.152, SmoothL1=1.048\n",
            "[Epoch 3][Batch 400], Speed: 10.651 samples/sec, CrossEntropy=2.155, SmoothL1=1.047\n",
            "[Epoch 3][Batch 420], Speed: 10.713 samples/sec, CrossEntropy=2.157, SmoothL1=1.041\n",
            "[Epoch 3][Batch 440], Speed: 10.947 samples/sec, CrossEntropy=2.155, SmoothL1=1.040\n",
            "[Epoch 3][Batch 460], Speed: 11.523 samples/sec, CrossEntropy=2.157, SmoothL1=1.028\n",
            "[Epoch 3][Batch 480], Speed: 12.060 samples/sec, CrossEntropy=2.151, SmoothL1=1.020\n",
            "[Epoch 3][Batch 500], Speed: 12.701 samples/sec, CrossEntropy=2.148, SmoothL1=1.020\n",
            "[Epoch 3][Batch 520], Speed: 10.775 samples/sec, CrossEntropy=2.144, SmoothL1=1.019\n",
            "[Epoch 3][Batch 540], Speed: 10.939 samples/sec, CrossEntropy=2.151, SmoothL1=1.018\n",
            "[Epoch 3][Batch 560], Speed: 11.251 samples/sec, CrossEntropy=2.148, SmoothL1=1.012\n",
            "[Epoch 3][Batch 580], Speed: 11.902 samples/sec, CrossEntropy=2.150, SmoothL1=1.012\n",
            "[Epoch 3][Batch 600], Speed: 10.586 samples/sec, CrossEntropy=2.145, SmoothL1=1.008\n",
            "[Epoch 3][Batch 620], Speed: 10.400 samples/sec, CrossEntropy=2.139, SmoothL1=1.002\n",
            "[Epoch 3][Batch 640], Speed: 11.979 samples/sec, CrossEntropy=2.139, SmoothL1=1.004\n",
            "[Epoch 3][Batch 660], Speed: 10.137 samples/sec, CrossEntropy=2.133, SmoothL1=1.001\n",
            "[Epoch 3][Batch 680], Speed: 10.070 samples/sec, CrossEntropy=2.134, SmoothL1=1.007\n",
            "[Epoch 3][Batch 700], Speed: 11.654 samples/sec, CrossEntropy=2.130, SmoothL1=1.009\n",
            "[Epoch 3][Batch 720], Speed: 11.343 samples/sec, CrossEntropy=2.132, SmoothL1=1.004\n",
            "[Epoch 3][Batch 740], Speed: 11.064 samples/sec, CrossEntropy=2.133, SmoothL1=1.003\n",
            "[Epoch 3][Batch 760], Speed: 12.088 samples/sec, CrossEntropy=2.128, SmoothL1=0.997\n",
            "[Epoch 3][Batch 780], Speed: 11.485 samples/sec, CrossEntropy=2.128, SmoothL1=1.003\n",
            "[Epoch 3][Batch 800], Speed: 10.815 samples/sec, CrossEntropy=2.126, SmoothL1=1.002\n",
            "[Epoch 3][Batch 820], Speed: 11.686 samples/sec, CrossEntropy=2.123, SmoothL1=1.002\n",
            "[Epoch 3][Batch 840], Speed: 12.399 samples/sec, CrossEntropy=2.119, SmoothL1=1.004\n",
            "[Epoch 3][Batch 860], Speed: 11.254 samples/sec, CrossEntropy=2.117, SmoothL1=1.004\n",
            "[Epoch 3][Batch 880], Speed: 11.438 samples/sec, CrossEntropy=2.118, SmoothL1=1.007\n",
            "[Epoch 3][Batch 900], Speed: 9.894 samples/sec, CrossEntropy=2.114, SmoothL1=1.003\n",
            "[Epoch 3][Batch 920], Speed: 11.949 samples/sec, CrossEntropy=2.112, SmoothL1=0.999\n",
            "[Epoch 3][Batch 940], Speed: 11.610 samples/sec, CrossEntropy=2.113, SmoothL1=0.996\n",
            "[Epoch 3][Batch 960], Speed: 11.452 samples/sec, CrossEntropy=2.117, SmoothL1=1.001\n",
            "[Epoch 3][Batch 980], Speed: 10.660 samples/sec, CrossEntropy=2.110, SmoothL1=0.997\n"
          ],
          "name": "stdout"
        }
      ]
    },
    {
      "cell_type": "code",
      "metadata": {
        "id": "XXeJxR2cqF4P",
        "colab_type": "code",
        "colab": {}
      },
      "source": [
        ""
      ],
      "execution_count": null,
      "outputs": []
    },
    {
      "cell_type": "markdown",
      "metadata": {
        "id": "DHGftzL4qYCY",
        "colab_type": "text"
      },
      "source": [
        "Inference\n"
      ]
    },
    {
      "cell_type": "code",
      "metadata": {
        "id": "pxLyLCx2qWgI",
        "colab_type": "code",
        "colab": {}
      },
      "source": [
        "import os\n",
        "import sys\n",
        "sys.path.append(\"Monk_Object_Detection/1_gluoncv_finetune/lib/\");"
      ],
      "execution_count": 26,
      "outputs": []
    },
    {
      "cell_type": "code",
      "metadata": {
        "id": "66u5YxFwqWTW",
        "colab_type": "code",
        "colab": {}
      },
      "source": [
        "from inference_prototype import Infer"
      ],
      "execution_count": 27,
      "outputs": []
    },
    {
      "cell_type": "code",
      "metadata": {
        "id": "uTGoMBWTqWJ9",
        "colab_type": "code",
        "colab": {}
      },
      "source": [
        "model_name = \"ssd_512_resnet50_v1_coco\";\n",
        "params_file = \"saved_model.params\";\n",
        "class_list = [\"person\"];"
      ],
      "execution_count": 29,
      "outputs": []
    },
    {
      "cell_type": "code",
      "metadata": {
        "id": "qsBwG_mgqWC9",
        "colab_type": "code",
        "colab": {
          "base_uri": "https://localhost:8080/",
          "height": 88
        },
        "outputId": "d44813e8-9c05-4814-eb66-4ec04b0fe16f"
      },
      "source": [
        "gtf = Infer(model_name, params_file, class_list, use_gpu=True);"
      ],
      "execution_count": 30,
      "outputs": [
        {
          "output_type": "stream",
          "text": [
            "/usr/local/lib/python3.6/dist-packages/mxnet/gluon/block.py:1159: UserWarning: Cannot decide type for the following arguments. Consider providing them as input:\n",
            "\tdata: None\n",
            "  input_sym_arg_type = in_param.infer_type()[0]\n"
          ],
          "name": "stderr"
        }
      ]
    },
    {
      "cell_type": "code",
      "metadata": {
        "id": "XhyC1Qy0jwx7",
        "colab_type": "code",
        "colab": {}
      },
      "source": [
        "img_name = \"/content/images_train/bg001_fg005_36.jpeg\"; \n",
        "visualize = True;\n",
        "thresh = 0.5;"
      ],
      "execution_count": 35,
      "outputs": []
    },
    {
      "cell_type": "code",
      "metadata": {
        "id": "T6QAsHyijw5Y",
        "colab_type": "code",
        "colab": {
          "base_uri": "https://localhost:8080/",
          "height": 286
        },
        "outputId": "13cfd9ec-cf60-4ccb-87af-0f0a2d70209b"
      },
      "source": [
        "output = gtf.run(img_name, visualize=visualize, thresh=thresh);"
      ],
      "execution_count": 36,
      "outputs": [
        {
          "output_type": "display_data",
          "data": {
            "image/png": "[encoded data removed]",
            "text/plain": [
              "<Figure size 432x288 with 1 Axes>"
            ]
          },
          "metadata": {
            "tags": [],
            "needs_background": "light"
          }
        },
        {
          "output_type": "display_data",
          "data": {
            "text/plain": [
              "<Figure size 432x288 with 0 Axes>"
            ]
          },
          "metadata": {
            "tags": []
          }
        }
      ]
    },
    {
      "cell_type": "code",
      "metadata": {
        "id": "Z0nrNc2ajxBZ",
        "colab_type": "code",
        "colab": {}
      },
      "source": [
        ""
      ],
      "execution_count": null,
      "outputs": []
    },
    {
      "cell_type": "markdown",
      "metadata": {
        "id": "hRZdV53gXWBM",
        "colab_type": "text"
      },
      "source": [
        "Further Steps:\n",
        "- Run IOU on the val dataset. Set a threshold to pass as perfect result. Further calculate Recall and Precision\n",
        "- Do the following for different params and models\n"
      ]
    },
    {
      "cell_type": "code",
      "metadata": {
        "id": "FiptbhhPjxIK",
        "colab_type": "code",
        "colab": {}
      },
      "source": [
        ""
      ],
      "execution_count": null,
      "outputs": []
    },
    {
      "cell_type": "code",
      "metadata": {
        "id": "3WvOs64N2l4k",
        "colab_type": "code",
        "colab": {}
      },
      "source": [
        ""
      ],
      "execution_count": null,
      "outputs": []
    },
    {
      "cell_type": "code",
      "metadata": {
        "id": "whHsWtgxYCJV",
        "colab_type": "code",
        "colab": {}
      },
      "source": [
        ""
      ],
      "execution_count": null,
      "outputs": []
    },
    {
      "cell_type": "markdown",
      "metadata": {
        "id": "g9_8caCUYCqH",
        "colab_type": "text"
      },
      "source": [
        "# Additional details:\n",
        "- While using the Pytorch backend model, CustomDatasetMultiObject class from data_loader_class.py is throwing error for the same data. \n",
        "\n",
        "- Additionally, detection_prototype parameter is not uniform across backends, due to which care must be taken while calling the functions."
      ]
    },
    {
      "cell_type": "code",
      "metadata": {
        "id": "XFhH3MKV2l_f",
        "colab_type": "code",
        "colab": {}
      },
      "source": [
        ""
      ],
      "execution_count": null,
      "outputs": []
    },
    {
      "cell_type": "code",
      "metadata": {
        "id": "G4VFDp5S2mEY",
        "colab_type": "code",
        "colab": {}
      },
      "source": [
        ""
      ],
      "execution_count": null,
      "outputs": []
    },
    {
      "cell_type": "code",
      "metadata": {
        "id": "XZMDiRQV2mKA",
        "colab_type": "code",
        "colab": {}
      },
      "source": [
        ""
      ],
      "execution_count": null,
      "outputs": []
    },
    {
      "cell_type": "code",
      "metadata": {
        "id": "1adzofGD2mOr",
        "colab_type": "code",
        "colab": {}
      },
      "source": [
        ""
      ],
      "execution_count": null,
      "outputs": []
    },
    {
      "cell_type": "code",
      "metadata": {
        "id": "2Py_7yjU2mR6",
        "colab_type": "code",
        "colab": {}
      },
      "source": [
        ""
      ],
      "execution_count": null,
      "outputs": []
    },
    {
      "cell_type": "code",
      "metadata": {
        "id": "VloUUQzG2mWH",
        "colab_type": "code",
        "colab": {}
      },
      "source": [
        ""
      ],
      "execution_count": null,
      "outputs": []
    },
    {
      "cell_type": "code",
      "metadata": {
        "id": "_85ZenxY2mZi",
        "colab_type": "code",
        "colab": {}
      },
      "source": [
        ""
      ],
      "execution_count": null,
      "outputs": []
    },
    {
      "cell_type": "code",
      "metadata": {
        "id": "qlFigIeE2mcS",
        "colab_type": "code",
        "colab": {}
      },
      "source": [
        ""
      ],
      "execution_count": null,
      "outputs": []
    },
    {
      "cell_type": "code",
      "metadata": {
        "id": "cWOQxWuf8oKH",
        "colab_type": "code",
        "colab": {}
      },
      "source": [
        ""
      ],
      "execution_count": null,
      "outputs": []
    }
  ]
}