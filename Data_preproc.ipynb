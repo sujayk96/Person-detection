{
 "cells": [
  {
   "cell_type": "markdown",
   "metadata": {},
   "source": [
    "## Data Download and Pre Processing"
   ]
  },
  {
   "cell_type": "markdown",
   "metadata": {},
   "source": [
    "- Download dataset from Kaggle \n",
    "- API code : kaggle datasets download -d shanwizard/modest-museum-dataset"
   ]
  },
  {
   "cell_type": "code",
   "execution_count": 2,
   "metadata": {},
   "outputs": [],
   "source": [
    "#Insall Kaggle\n",
    "#!pip install kaggle\n",
    "#kaggle datasets download -d shanwizard/modest-museum-dataset"
   ]
  },
  {
   "cell_type": "code",
   "execution_count": 3,
   "metadata": {},
   "outputs": [],
   "source": [
    "#!unzip -q modest-museum-dataset.zip"
   ]
  },
  {
   "cell_type": "markdown",
   "metadata": {},
   "source": [
    "Directory Structure\n",
    "The dataset comprises seven parts, which are stored inside the root directory.\n",
    "\n",
    "bg: (d) Background images\n",
    "fg: (d) Foreground images\n",
    "fg_mask: (d) Mask of foreground images\n",
    "bg_fg: (d) Images where foregrounds are overlayed on top of backgrounds\n",
    "bgfgmask: (d) Mask of overlayed foreground-background images\n",
    "bgfgdepth_map: (d) Depth maps of overlayed foreground-background images\n",
    "file_map.txt: (f) Relations between files across different parts of the dataset\n",
    "bbox.txt: (f) Bounding box of foreground in each background"
   ]
  },
  {
   "cell_type": "markdown",
   "metadata": {},
   "source": [
    "### Note\n",
    "- The size of dataset is 6gb(zipped). \n",
    "*As the data set is huge and not being able to process it, I have sampled a small subset from the main dataset*\n",
    "- Below are the steps to select a subset of images randomly(not a great approach) \n",
    "- Divide data into train and val dataset"
   ]
  },
  {
   "cell_type": "code",
   "execution_count": 6,
   "metadata": {},
   "outputs": [],
   "source": [
    "import os\n",
    "import pandas as pd\n",
    "import random"
   ]
  },
  {
   "cell_type": "code",
   "execution_count": 100,
   "metadata": {},
   "outputs": [],
   "source": [
    "names = os.listdir('bg_fg')"
   ]
  },
  {
   "cell_type": "code",
   "execution_count": 4,
   "metadata": {},
   "outputs": [
    {
     "data": {
      "text/plain": [
       "400000"
      ]
     },
     "execution_count": 4,
     "metadata": {},
     "output_type": "execute_result"
    }
   ],
   "source": [
    "len(names)"
   ]
  },
  {
   "cell_type": "code",
   "execution_count": 6,
   "metadata": {},
   "outputs": [],
   "source": [
    "train_imgs = random.sample(names, 20000)"
   ]
  },
  {
   "cell_type": "code",
   "execution_count": 10,
   "metadata": {},
   "outputs": [],
   "source": [
    "val_imgs = random.sample(list(set(names)-set(train_imgs)),2000)"
   ]
  },
  {
   "cell_type": "markdown",
   "metadata": {},
   "source": [
    "## Annotation file format:\n",
    "\n",
    "Existing\n",
    "\n",
    "ID  | xmin | ymin  | width | Height \n",
    "\n",
    "Required\n",
    "\n",
    "ID  | xmin ymin xmax ymax Label\n",
    "\n",
    "\n"
   ]
  },
  {
   "cell_type": "code",
   "execution_count": 102,
   "metadata": {},
   "outputs": [],
   "source": [
    "bbox = pd.read_csv('bbox.txt', names = ['ID','xmin','ymin','w','h'],sep='\\t')"
   ]
  },
  {
   "cell_type": "code",
   "execution_count": 103,
   "metadata": {},
   "outputs": [
    {
     "data": {
      "text/plain": [
       "ID      object\n",
       "xmin     int64\n",
       "ymin     int64\n",
       "w        int64\n",
       "h        int64\n",
       "dtype: object"
      ]
     },
     "execution_count": 103,
     "metadata": {},
     "output_type": "execute_result"
    }
   ],
   "source": [
    "bbox.dtypes"
   ]
  },
  {
   "cell_type": "code",
   "execution_count": 104,
   "metadata": {},
   "outputs": [],
   "source": [
    "bbox_train = bbox[bbox['ID'].isin(train_imgs)]\n",
    "bbox_val = bbox[bbox['ID'].isin(val_imgs)]"
   ]
  },
  {
   "cell_type": "code",
   "execution_count": 105,
   "metadata": {},
   "outputs": [
    {
     "data": {
      "text/plain": [
       "(20000, 5)"
      ]
     },
     "execution_count": 105,
     "metadata": {},
     "output_type": "execute_result"
    }
   ],
   "source": [
    "bbox_train.shape"
   ]
  },
  {
   "cell_type": "code",
   "execution_count": 106,
   "metadata": {},
   "outputs": [
    {
     "name": "stderr",
     "output_type": "stream",
     "text": [
      "/Users/jayko/Documents/monk/monkenv/lib/python3.7/site-packages/ipykernel_launcher.py:1: SettingWithCopyWarning: \n",
      "A value is trying to be set on a copy of a slice from a DataFrame.\n",
      "Try using .loc[row_indexer,col_indexer] = value instead\n",
      "\n",
      "See the caveats in the documentation: https://pandas.pydata.org/pandas-docs/stable/user_guide/indexing.html#returning-a-view-versus-a-copy\n",
      "  \"\"\"Entry point for launching an IPython kernel.\n",
      "/Users/jayko/Documents/monk/monkenv/lib/python3.7/site-packages/ipykernel_launcher.py:2: SettingWithCopyWarning: \n",
      "A value is trying to be set on a copy of a slice from a DataFrame.\n",
      "Try using .loc[row_indexer,col_indexer] = value instead\n",
      "\n",
      "See the caveats in the documentation: https://pandas.pydata.org/pandas-docs/stable/user_guide/indexing.html#returning-a-view-versus-a-copy\n",
      "  \n",
      "/Users/jayko/Documents/monk/monkenv/lib/python3.7/site-packages/ipykernel_launcher.py:3: SettingWithCopyWarning: \n",
      "A value is trying to be set on a copy of a slice from a DataFrame.\n",
      "Try using .loc[row_indexer,col_indexer] = value instead\n",
      "\n",
      "See the caveats in the documentation: https://pandas.pydata.org/pandas-docs/stable/user_guide/indexing.html#returning-a-view-versus-a-copy\n",
      "  This is separate from the ipykernel package so we can avoid doing imports until\n",
      "/Users/jayko/Documents/monk/monkenv/lib/python3.7/site-packages/ipykernel_launcher.py:4: SettingWithCopyWarning: \n",
      "A value is trying to be set on a copy of a slice from a DataFrame.\n",
      "Try using .loc[row_indexer,col_indexer] = value instead\n",
      "\n",
      "See the caveats in the documentation: https://pandas.pydata.org/pandas-docs/stable/user_guide/indexing.html#returning-a-view-versus-a-copy\n",
      "  after removing the cwd from sys.path.\n"
     ]
    }
   ],
   "source": [
    "bbox_train['xmax'] = bbox_train[['xmin','w']].sum(axis = 1)\n",
    "bbox_train['ymax'] = bbox_train[['ymin','h']].sum(axis = 1)\n",
    "bbox_val['xmax'] = bbox_val[['xmin','w']].sum(axis = 1)\n",
    "bbox_val['ymax'] = bbox_val[['ymin','h']].sum(axis = 1)\n",
    "\n"
   ]
  },
  {
   "cell_type": "code",
   "execution_count": 107,
   "metadata": {},
   "outputs": [
    {
     "name": "stderr",
     "output_type": "stream",
     "text": [
      "/Users/jayko/Documents/monk/monkenv/lib/python3.7/site-packages/pandas/core/frame.py:3997: SettingWithCopyWarning: \n",
      "A value is trying to be set on a copy of a slice from a DataFrame\n",
      "\n",
      "See the caveats in the documentation: https://pandas.pydata.org/pandas-docs/stable/user_guide/indexing.html#returning-a-view-versus-a-copy\n",
      "  errors=errors,\n"
     ]
    }
   ],
   "source": [
    "bbox_train.drop(['h','w'],axis=1, inplace=True)\n",
    "bbox_val.drop(['h','w'],axis=1, inplace=True)"
   ]
  },
  {
   "cell_type": "code",
   "execution_count": 108,
   "metadata": {},
   "outputs": [],
   "source": [
    "bbox_train = bbox_train.astype('str')\n",
    "bbox_val = bbox_val.astype('str')\n",
    "\n",
    "bbox_train['Label'] = bbox_train['xmin']+\" \"+bbox_train['ymin']+\" \"+bbox_train['xmax']+\" \"+bbox_train['ymax']+\" \"+\"person\"\n",
    "bbox_val['Label'] = bbox_val['xmin']+\" \"+bbox_val['ymin']+\" \"+bbox_val['xmax']+\" \"+bbox_val['ymax']+\" \"+\"person\""
   ]
  },
  {
   "cell_type": "code",
   "execution_count": 109,
   "metadata": {},
   "outputs": [
    {
     "data": {
      "text/html": [
       "<div>\n",
       "<style scoped>\n",
       "    .dataframe tbody tr th:only-of-type {\n",
       "        vertical-align: middle;\n",
       "    }\n",
       "\n",
       "    .dataframe tbody tr th {\n",
       "        vertical-align: top;\n",
       "    }\n",
       "\n",
       "    .dataframe thead th {\n",
       "        text-align: right;\n",
       "    }\n",
       "</style>\n",
       "<table border=\"1\" class=\"dataframe\">\n",
       "  <thead>\n",
       "    <tr style=\"text-align: right;\">\n",
       "      <th></th>\n",
       "      <th>ID</th>\n",
       "      <th>xmin</th>\n",
       "      <th>ymin</th>\n",
       "      <th>xmax</th>\n",
       "      <th>ymax</th>\n",
       "      <th>Label</th>\n",
       "    </tr>\n",
       "  </thead>\n",
       "  <tbody>\n",
       "    <tr>\n",
       "      <th>2</th>\n",
       "      <td>bg001_fg001_03.jpeg</td>\n",
       "      <td>15</td>\n",
       "      <td>7</td>\n",
       "      <td>50</td>\n",
       "      <td>115</td>\n",
       "      <td>15 7 50 115 person</td>\n",
       "    </tr>\n",
       "    <tr>\n",
       "      <th>33</th>\n",
       "      <td>bg001_fg001_34.jpeg</td>\n",
       "      <td>119</td>\n",
       "      <td>114</td>\n",
       "      <td>154</td>\n",
       "      <td>222</td>\n",
       "      <td>119 114 154 222 person</td>\n",
       "    </tr>\n",
       "    <tr>\n",
       "      <th>43</th>\n",
       "      <td>bg001_fg002_04.jpeg</td>\n",
       "      <td>71</td>\n",
       "      <td>75</td>\n",
       "      <td>102</td>\n",
       "      <td>183</td>\n",
       "      <td>71 75 102 183 person</td>\n",
       "    </tr>\n",
       "    <tr>\n",
       "      <th>103</th>\n",
       "      <td>bg001_fg003_24.jpeg</td>\n",
       "      <td>16</td>\n",
       "      <td>102</td>\n",
       "      <td>83</td>\n",
       "      <td>210</td>\n",
       "      <td>16 102 83 210 person</td>\n",
       "    </tr>\n",
       "    <tr>\n",
       "      <th>131</th>\n",
       "      <td>bg001_fg004_12.jpeg</td>\n",
       "      <td>0</td>\n",
       "      <td>75</td>\n",
       "      <td>70</td>\n",
       "      <td>183</td>\n",
       "      <td>0 75 70 183 person</td>\n",
       "    </tr>\n",
       "  </tbody>\n",
       "</table>\n",
       "</div>"
      ],
      "text/plain": [
       "                      ID xmin ymin xmax ymax                   Label\n",
       "2    bg001_fg001_03.jpeg   15    7   50  115      15 7 50 115 person\n",
       "33   bg001_fg001_34.jpeg  119  114  154  222  119 114 154 222 person\n",
       "43   bg001_fg002_04.jpeg   71   75  102  183    71 75 102 183 person\n",
       "103  bg001_fg003_24.jpeg   16  102   83  210    16 102 83 210 person\n",
       "131  bg001_fg004_12.jpeg    0   75   70  183      0 75 70 183 person"
      ]
     },
     "execution_count": 109,
     "metadata": {},
     "output_type": "execute_result"
    }
   ],
   "source": [
    "bbox_train.head()"
   ]
  },
  {
   "cell_type": "code",
   "execution_count": 110,
   "metadata": {
    "scrolled": true
   },
   "outputs": [],
   "source": [
    "bbox_train.drop(['xmin','ymin','xmax','ymax'], axis=1, inplace=True)\n",
    "bbox_val.drop(['xmin','ymin','xmax','ymax'], axis=1, inplace=True)"
   ]
  },
  {
   "cell_type": "code",
   "execution_count": 111,
   "metadata": {},
   "outputs": [
    {
     "data": {
      "text/html": [
       "<div>\n",
       "<style scoped>\n",
       "    .dataframe tbody tr th:only-of-type {\n",
       "        vertical-align: middle;\n",
       "    }\n",
       "\n",
       "    .dataframe tbody tr th {\n",
       "        vertical-align: top;\n",
       "    }\n",
       "\n",
       "    .dataframe thead th {\n",
       "        text-align: right;\n",
       "    }\n",
       "</style>\n",
       "<table border=\"1\" class=\"dataframe\">\n",
       "  <thead>\n",
       "    <tr style=\"text-align: right;\">\n",
       "      <th></th>\n",
       "      <th>ID</th>\n",
       "      <th>Label</th>\n",
       "    </tr>\n",
       "  </thead>\n",
       "  <tbody>\n",
       "    <tr>\n",
       "      <th>2</th>\n",
       "      <td>bg001_fg001_03.jpeg</td>\n",
       "      <td>15 7 50 115 person</td>\n",
       "    </tr>\n",
       "    <tr>\n",
       "      <th>33</th>\n",
       "      <td>bg001_fg001_34.jpeg</td>\n",
       "      <td>119 114 154 222 person</td>\n",
       "    </tr>\n",
       "    <tr>\n",
       "      <th>43</th>\n",
       "      <td>bg001_fg002_04.jpeg</td>\n",
       "      <td>71 75 102 183 person</td>\n",
       "    </tr>\n",
       "    <tr>\n",
       "      <th>103</th>\n",
       "      <td>bg001_fg003_24.jpeg</td>\n",
       "      <td>16 102 83 210 person</td>\n",
       "    </tr>\n",
       "    <tr>\n",
       "      <th>131</th>\n",
       "      <td>bg001_fg004_12.jpeg</td>\n",
       "      <td>0 75 70 183 person</td>\n",
       "    </tr>\n",
       "  </tbody>\n",
       "</table>\n",
       "</div>"
      ],
      "text/plain": [
       "                      ID                   Label\n",
       "2    bg001_fg001_03.jpeg      15 7 50 115 person\n",
       "33   bg001_fg001_34.jpeg  119 114 154 222 person\n",
       "43   bg001_fg002_04.jpeg    71 75 102 183 person\n",
       "103  bg001_fg003_24.jpeg    16 102 83 210 person\n",
       "131  bg001_fg004_12.jpeg      0 75 70 183 person"
      ]
     },
     "execution_count": 111,
     "metadata": {},
     "output_type": "execute_result"
    }
   ],
   "source": [
    "bbox_train.head()"
   ]
  },
  {
   "cell_type": "markdown",
   "metadata": {},
   "source": [
    "### Create destination dir"
   ]
  },
  {
   "cell_type": "code",
   "execution_count": 42,
   "metadata": {},
   "outputs": [],
   "source": [
    "os.mkdir(\"images_train\")\n",
    "os.mkdir(\"images_val\")\n",
    "os.mkdir(\"annotations\")"
   ]
  },
  {
   "cell_type": "markdown",
   "metadata": {},
   "source": [
    "Move the selected images to their respective folders"
   ]
  },
  {
   "cell_type": "code",
   "execution_count": 71,
   "metadata": {},
   "outputs": [],
   "source": [
    "import os\n",
    "import shutil\n",
    "src_files = train_imgs\n",
    "for file_name in src_files:\n",
    "    full_file_name = os.path.join(\"bg_fg\", file_name)\n",
    "    if os.path.isfile(full_file_name):\n",
    "        shutil.copy(full_file_name, \"images_train\")\n",
    "src_files = val_imgs\n",
    "for file_name in src_files:\n",
    "    full_file_name = os.path.join(\"bg_fg\", file_name)\n",
    "    if os.path.isfile(full_file_name):\n",
    "        shutil.copy(full_file_name, \"images_val\")       \n"
   ]
  },
  {
   "cell_type": "code",
   "execution_count": 121,
   "metadata": {},
   "outputs": [],
   "source": []
  },
  {
   "cell_type": "code",
   "execution_count": null,
   "metadata": {},
   "outputs": [],
   "source": []
  },
  {
   "cell_type": "code",
   "execution_count": null,
   "metadata": {},
   "outputs": [],
   "source": []
  },
  {
   "cell_type": "code",
   "execution_count": 119,
   "metadata": {},
   "outputs": [
    {
     "data": {
      "text/html": [
       "<div>\n",
       "<style scoped>\n",
       "    .dataframe tbody tr th:only-of-type {\n",
       "        vertical-align: middle;\n",
       "    }\n",
       "\n",
       "    .dataframe tbody tr th {\n",
       "        vertical-align: top;\n",
       "    }\n",
       "\n",
       "    .dataframe thead th {\n",
       "        text-align: right;\n",
       "    }\n",
       "</style>\n",
       "<table border=\"1\" class=\"dataframe\">\n",
       "  <thead>\n",
       "    <tr style=\"text-align: right;\">\n",
       "      <th></th>\n",
       "      <th>Label</th>\n",
       "    </tr>\n",
       "    <tr>\n",
       "      <th>ID</th>\n",
       "      <th></th>\n",
       "    </tr>\n",
       "  </thead>\n",
       "  <tbody>\n",
       "    <tr>\n",
       "      <th>bg001_fg001_03.jpeg</th>\n",
       "      <td>15 7 50 115 person</td>\n",
       "    </tr>\n",
       "    <tr>\n",
       "      <th>bg001_fg001_34.jpeg</th>\n",
       "      <td>119 114 154 222 person</td>\n",
       "    </tr>\n",
       "    <tr>\n",
       "      <th>bg001_fg002_04.jpeg</th>\n",
       "      <td>71 75 102 183 person</td>\n",
       "    </tr>\n",
       "    <tr>\n",
       "      <th>bg001_fg003_24.jpeg</th>\n",
       "      <td>16 102 83 210 person</td>\n",
       "    </tr>\n",
       "    <tr>\n",
       "      <th>bg001_fg004_12.jpeg</th>\n",
       "      <td>0 75 70 183 person</td>\n",
       "    </tr>\n",
       "  </tbody>\n",
       "</table>\n",
       "</div>"
      ],
      "text/plain": [
       "                                      Label\n",
       "ID                                         \n",
       "bg001_fg001_03.jpeg      15 7 50 115 person\n",
       "bg001_fg001_34.jpeg  119 114 154 222 person\n",
       "bg001_fg002_04.jpeg    71 75 102 183 person\n",
       "bg001_fg003_24.jpeg    16 102 83 210 person\n",
       "bg001_fg004_12.jpeg      0 75 70 183 person"
      ]
     },
     "execution_count": 119,
     "metadata": {},
     "output_type": "execute_result"
    }
   ],
   "source": [
    "bbox_train.set_index('ID',inplace=True)\n",
    "bbox_train.head()"
   ]
  },
  {
   "cell_type": "code",
   "execution_count": 120,
   "metadata": {},
   "outputs": [
    {
     "data": {
      "text/html": [
       "<div>\n",
       "<style scoped>\n",
       "    .dataframe tbody tr th:only-of-type {\n",
       "        vertical-align: middle;\n",
       "    }\n",
       "\n",
       "    .dataframe tbody tr th {\n",
       "        vertical-align: top;\n",
       "    }\n",
       "\n",
       "    .dataframe thead th {\n",
       "        text-align: right;\n",
       "    }\n",
       "</style>\n",
       "<table border=\"1\" class=\"dataframe\">\n",
       "  <thead>\n",
       "    <tr style=\"text-align: right;\">\n",
       "      <th></th>\n",
       "      <th>Label</th>\n",
       "    </tr>\n",
       "    <tr>\n",
       "      <th>ID</th>\n",
       "      <th></th>\n",
       "    </tr>\n",
       "  </thead>\n",
       "  <tbody>\n",
       "    <tr>\n",
       "      <th>bg001_fg003_21.jpeg</th>\n",
       "      <td>55 0 122 108 person</td>\n",
       "    </tr>\n",
       "    <tr>\n",
       "      <th>bg001_fg006_28.jpeg</th>\n",
       "      <td>133 115 198 223 person</td>\n",
       "    </tr>\n",
       "    <tr>\n",
       "      <th>bg001_fg015_21.jpeg</th>\n",
       "      <td>89 101 159 209 person</td>\n",
       "    </tr>\n",
       "    <tr>\n",
       "      <th>bg001_fg016_23.jpeg</th>\n",
       "      <td>53 23 121 131 person</td>\n",
       "    </tr>\n",
       "    <tr>\n",
       "      <th>bg001_fg017_09.jpeg</th>\n",
       "      <td>40 49 92 157 person</td>\n",
       "    </tr>\n",
       "  </tbody>\n",
       "</table>\n",
       "</div>"
      ],
      "text/plain": [
       "                                      Label\n",
       "ID                                         \n",
       "bg001_fg003_21.jpeg     55 0 122 108 person\n",
       "bg001_fg006_28.jpeg  133 115 198 223 person\n",
       "bg001_fg015_21.jpeg   89 101 159 209 person\n",
       "bg001_fg016_23.jpeg    53 23 121 131 person\n",
       "bg001_fg017_09.jpeg     40 49 92 157 person"
      ]
     },
     "execution_count": 120,
     "metadata": {},
     "output_type": "execute_result"
    }
   ],
   "source": [
    "bbox_val.set_index('ID',inplace=True)\n",
    "bbox_val.head()"
   ]
  },
  {
   "cell_type": "code",
   "execution_count": 123,
   "metadata": {},
   "outputs": [
    {
     "data": {
      "text/plain": [
       "'/Users/jayko/Downloads/modest_museum_dataset'"
      ]
     },
     "execution_count": 123,
     "metadata": {},
     "output_type": "execute_result"
    }
   ],
   "source": [
    "bbox_val.to_csv(\"annotations/bbox_val.csv\")\n",
    "bbox_train.to_csv(\"annotations/bbox_train.csv\")"
   ]
  },
  {
   "cell_type": "markdown",
   "metadata": {},
   "source": [
    "# After sampling the data, convert it into a zip file and upload it to kaggle for using it in colab"
   ]
  },
  {
   "cell_type": "markdown",
   "metadata": {},
   "source": []
  }
 ],
 "metadata": {
  "kernelspec": {
   "display_name": "monkenv",
   "language": "python",
   "name": "monkenv"
  },
  "language_info": {
   "codemirror_mode": {
    "name": "ipython",
    "version": 3
   },
   "file_extension": ".py",
   "mimetype": "text/x-python",
   "name": "python",
   "nbconvert_exporter": "python",
   "pygments_lexer": "ipython3",
   "version": "3.7.3"
  }
 },
 "nbformat": 4,
 "nbformat_minor": 4
}
